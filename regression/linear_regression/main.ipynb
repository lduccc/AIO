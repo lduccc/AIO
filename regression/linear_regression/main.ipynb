{
 "cells": [
  {
   "cell_type": "code",
   "execution_count": 2,
   "id": "5bf7380f",
   "metadata": {},
   "outputs": [],
   "source": [
    "import numpy as np\n",
    "import matplotlib.pyplot as plt\n",
    "import pandas as pd\n",
    "\n"
   ]
  },
  {
   "cell_type": "code",
   "execution_count": 3,
   "id": "3e3c6c31",
   "metadata": {},
   "outputs": [],
   "source": [
    "\"\"\"\n",
    "Prepping data from the given dataset -> Extracting it into attribute titles and the raw data.\n",
    "\"\"\"\n",
    "def read_data(f_name):\n",
    "    raw_dataset = []\n",
    "    with open(f_name) as f_i:\n",
    "        attributes = f_i.readline().strip(',').strip().split(',')\n",
    "\n",
    "        for line in f_i:\n",
    "            temp = np.array(line.strip().split(','), dtype = float)\n",
    "            # float_temp = temp.astype(float)\n",
    "            raw_dataset.append(np.array(temp[1:]))\n",
    "\n",
    "        return np.array(attributes), np.array(raw_dataset)"
   ]
  },
  {
   "cell_type": "code",
   "execution_count": 4,
   "id": "123d81e7",
   "metadata": {},
   "outputs": [
    {
     "name": "stdout",
     "output_type": "stream",
     "text": [
      "['YearsExperience' 'Salary']\n",
      "(30, 2)\n",
      "30\n"
     ]
    }
   ],
   "source": [
    "attri_name, raw_data = read_data(\"Salary_dataset.csv\")\n",
    "rows = raw_data.shape[0]\n",
    "print(attri_name)\n",
    "print(raw_data.shape)\n",
    "print(rows)"
   ]
  },
  {
   "cell_type": "code",
   "execution_count": 5,
   "id": "e04ab965",
   "metadata": {},
   "outputs": [],
   "source": [
    "def extract_data(raw_data):\n",
    "    years_ex, salary = raw_data[:,0], raw_data[:,1]\n",
    "    return years_ex, salary\n"
   ]
  },
  {
   "cell_type": "code",
   "execution_count": 7,
   "id": "579eafca",
   "metadata": {},
   "outputs": [],
   "source": [
    "def compute_cost(w, b, experience, salary):\n",
    "    \"\"\" \n",
    "    experience <- x\n",
    "    salary <- y\n",
    "    \"\"\"\n",
    "    m = experience.shape[0]\n",
    "    cost = 0\n",
    "\n",
    "    for i in range(rows):\n",
    "        cost += (w * experience[i] + b - salary[i]) ** 2\n",
    "\n",
    "    return cost / (2 * m)"
   ]
  },
  {
   "cell_type": "code",
   "execution_count": 20,
   "id": "21b47862",
   "metadata": {},
   "outputs": [],
   "source": [
    "def compute_gradient(w, b, experience, salary):\n",
    "    m = experience.shape[0]\n",
    "\n",
    "    dj_db, dj_dw = 0, 0\n",
    "    for i in range(m):\n",
    "        dj_db += (w * experience[i] + b - salary[i])\n",
    "        dj_dw += (w * experience[i] + b - salary[i]) * experience[i]\n",
    "\n",
    "    dj_db /= m\n",
    "    dj_dw /= m\n",
    "\n",
    "    return dj_dw, dj_db"
   ]
  },
  {
   "cell_type": "code",
   "execution_count": 37,
   "id": "c19e6181",
   "metadata": {},
   "outputs": [],
   "source": [
    "import math\n",
    "def gradient_descent(experience, salary, w_in, b_in, alpha, num_iters):\n",
    "    J_history = []\n",
    "    p_history = []\n",
    "    w, b = w_in, b_in\n",
    "    for i in range(num_iters):\n",
    "        dj_dw, dj_db = compute_gradient(w, b, experience, salary)\n",
    "        w, b = w - alpha * dj_dw, b - alpha * dj_db\n",
    "\n",
    "        J_history.append(compute_cost(w, b, experience, salary))\n",
    "        p_history.append([w, b])\n",
    "    \n",
    "        if i % math.ceil(num_iters / 10) == 0:\n",
    "            print(f\"Iteration {i:4}: Cost {J_history[-1]:0.2e} \",\n",
    "                f\"dj_dw: {dj_dw: 0.3e}, dj_db: {dj_db: 0.3e}  \",\n",
    "                f\"w: {w: 0.3e}, b:{b: 0.5e}\")\n",
    "    \n",
    "\n",
    "    return w, b, J_history, p_history"
   ]
  },
  {
   "cell_type": "code",
   "execution_count": 96,
   "id": "40d3d2eb",
   "metadata": {},
   "outputs": [],
   "source": [
    "''' \n",
    "Testing\n",
    "'''\n",
    "def plot(experience, salary, slope, intercept, normalized = True):\n",
    "    data = pd.DataFrame({\"salary\": salary, \"experience\" : experience }) \n",
    "    lower_years, upper_years = min(experience) * 90 / 100, max(experience) * 115 / 100\n",
    "    lower_salary, upper_salary = min(salary) * 90 / 100, max(salary) * 115 / 100\n",
    "\n",
    "    # Plot the line\n",
    "\n",
    "    x_values = np.linspace(0, upper_years, 100) \n",
    "\n",
    "    y_values = slope * x_values + intercept\n",
    "\n",
    "\n",
    "    plt.plot(x_values, y_values, label=f'y = {slope}x + {intercept}')\n",
    "    plt.scatter(data.experience, data.salary, color = 'orange', label = 'data points')\n",
    "    plt.xlim(0, upper_years)\n",
    "    plt.ylim(0, upper_salary)\n",
    "    plt.xlabel('Experience')\n",
    "    plt.ylabel('Salary')\n",
    "    plt.legend()\n",
    "    plt.show()"
   ]
  },
  {
   "cell_type": "code",
   "execution_count": 48,
   "id": "e9614e27",
   "metadata": {},
   "outputs": [],
   "source": [
    "def normalize_data(experience, salary):\n",
    "    mean_ex, var_ex = np.mean(experience), np.var(experience)\n",
    "    mean_sa, var_sa = np.mean(salary), np.var(salary)\n",
    "\n",
    "    return (experience - mean_ex) / var_ex ** 0.5, (salary - mean_sa) / var_sa ** 0.5"
   ]
  },
  {
   "cell_type": "code",
   "execution_count": 97,
   "id": "bf1db130",
   "metadata": {},
   "outputs": [
    {
     "name": "stdout",
     "output_type": "stream",
     "text": [
      "Iteration    0: Cost 2.61e+09  dj_dw: -4.850e+05, dj_db: -7.600e+04   w:  2.425e+04, b: 3.80020e+03\n",
      "Iteration 1000: Cost 1.56e+07  dj_dw:  2.265e-02, dj_db: -1.543e-01   w:  9.450e+03, b: 2.48475e+04\n",
      "Iteration 2000: Cost 1.56e+07  dj_dw:  7.405e-07, dj_db: -5.046e-06   w:  9.450e+03, b: 2.48482e+04\n",
      "Iteration 3000: Cost 1.56e+07  dj_dw:  2.328e-11, dj_db: -1.654e-10   w:  9.450e+03, b: 2.48482e+04\n",
      "Iteration 4000: Cost 1.56e+07  dj_dw: -2.935e-11, dj_db: -3.420e-11   w:  9.450e+03, b: 2.48482e+04\n",
      "Iteration 5000: Cost 1.56e+07  dj_dw: -2.935e-11, dj_db: -3.420e-11   w:  9.450e+03, b: 2.48482e+04\n",
      "Iteration 6000: Cost 1.56e+07  dj_dw: -2.935e-11, dj_db: -3.420e-11   w:  9.450e+03, b: 2.48482e+04\n",
      "Iteration 7000: Cost 1.56e+07  dj_dw: -2.935e-11, dj_db: -3.420e-11   w:  9.450e+03, b: 2.48482e+04\n",
      "Iteration 8000: Cost 1.56e+07  dj_dw: -2.935e-11, dj_db: -3.420e-11   w:  9.450e+03, b: 2.48482e+04\n",
      "Iteration 9000: Cost 1.56e+07  dj_dw: -2.935e-11, dj_db: -3.420e-11   w:  9.450e+03, b: 2.48482e+04\n",
      "9449.962321455097 24848.20396652304\n"
     ]
    },
    {
     "data": {
      "image/png": "[encoded data removed]",
      "text/plain": [
       "<Figure size 640x480 with 1 Axes>"
      ]
     },
     "metadata": {},
     "output_type": "display_data"
    }
   ],
   "source": [
    "w_in, b_in = 0, 0\n",
    "num_iters = 10000\n",
    "alpha = 0.05\n",
    "\n",
    "experience, salary = extract_data(raw_data)\n",
    "\n",
    "w, b, J_history, p_history = gradient_descent(experience, salary,\n",
    "                                              w_in, b_in, alpha, num_iters)\n",
    "\n",
    "print(w,b)\n",
    "plot(experience, salary, w, b,)"
   ]
  }
 ],
 "metadata": {
  "kernelspec": {
   "display_name": "Python 3",
   "language": "python",
   "name": "python3"
  },
  "language_info": {
   "codemirror_mode": {
    "name": "ipython",
    "version": 3
   },
   "file_extension": ".py",
   "mimetype": "text/x-python",
   "name": "python",
   "nbconvert_exporter": "python",
   "pygments_lexer": "ipython3",
   "version": "3.13.5"
  }
 },
 "nbformat": 4,
 "nbformat_minor": 5
}
