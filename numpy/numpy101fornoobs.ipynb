{
 "cells": [
  {
   "cell_type": "code",
   "execution_count": 354,
   "id": "545a5808",
   "metadata": {},
   "outputs": [
    {
     "name": "stdout",
     "output_type": "stream",
     "text": [
      "2.3.1\n"
     ]
    }
   ],
   "source": [
    "import numpy as np\n",
    "\n",
    "print(np.__version__)"
   ]
  },
  {
   "cell_type": "markdown",
   "id": "925027d3",
   "metadata": {},
   "source": [
    "Array initialization from already existing Python list"
   ]
  },
  {
   "cell_type": "code",
   "execution_count": 355,
   "id": "dac35c8a",
   "metadata": {},
   "outputs": [
    {
     "name": "stdout",
     "output_type": "stream",
     "text": [
      "[1 2 3 4 5]\n",
      "(5,) int64 5 1\n"
     ]
    }
   ],
   "source": [
    "import numpy as np\n",
    "temp = [1,2,3,4,5]\n",
    "temp_numpy = np.array(temp)\n",
    "temp_numpy = np.array(temp)\n",
    "print(temp_numpy)\n",
    "print(temp_numpy.shape, temp_numpy.dtype, temp_numpy.size, temp_numpy.ndim)\n"
   ]
  },
  {
   "cell_type": "markdown",
   "id": "035650cb",
   "metadata": {},
   "source": [
    "0-zero() and 1-ones() array"
   ]
  },
  {
   "cell_type": "code",
   "execution_count": 356,
   "id": "8175e551",
   "metadata": {},
   "outputs": [
    {
     "name": "stdout",
     "output_type": "stream",
     "text": [
      "[0. 0. 0. 0. 0.] [1. 1. 1. 1. 1. 1. 1. 1. 1. 1.]\n",
      "[[0. 0. 0. 0.]\n",
      " [0. 0. 0. 0.]] [[1. 1. 1. 1. 1.]\n",
      " [1. 1. 1. 1. 1.]\n",
      " [1. 1. 1. 1. 1.]]\n"
     ]
    }
   ],
   "source": [
    "import numpy as np\n",
    "\n",
    "zeros = np.zeros(5)\n",
    "ones = np.ones(10)\n",
    "\n",
    "zeros_2d = np.zeros((2,4))\n",
    "ones_2d = np.ones((3,5))\n",
    "print(zeros, ones)\n",
    "print(zeros_2d, ones_2d)"
   ]
  },
  {
   "cell_type": "markdown",
   "id": "6643543b",
   "metadata": {},
   "source": [
    "Full numpy array with a chosen number"
   ]
  },
  {
   "cell_type": "code",
   "execution_count": 357,
   "id": "82e613ca",
   "metadata": {},
   "outputs": [
    {
     "name": "stdout",
     "output_type": "stream",
     "text": [
      "[[-69 -69 -69 -69 -69]\n",
      " [-69 -69 -69 -69 -69]\n",
      " [-69 -69 -69 -69 -69]]\n"
     ]
    }
   ],
   "source": [
    "import numpy as np\n",
    "\n",
    "full_array = np.full((3,5), -69)\n",
    "\n",
    "print(full_array)"
   ]
  },
  {
   "cell_type": "markdown",
   "id": "0b07d884",
   "metadata": {},
   "source": [
    "arange() -> it's basically range() in python i guess"
   ]
  },
  {
   "cell_type": "code",
   "execution_count": 358,
   "id": "2eea082d",
   "metadata": {},
   "outputs": [
    {
     "name": "stdout",
     "output_type": "stream",
     "text": [
      "[0 1 2 3 4 5 6 7 8 9]\n",
      "[0 2 4 6 8]\n"
     ]
    }
   ],
   "source": [
    "import numpy as np\n",
    "\n",
    "new = np.arange(0, 10)\n",
    "new_even = np.arange(0, 10, 2)\n",
    "\n",
    "print(new)\n",
    "print(new_even)\n"
   ]
  },
  {
   "cell_type": "markdown",
   "id": "fa5e12ba",
   "metadata": {},
   "source": [
    "Identity matrix"
   ]
  },
  {
   "cell_type": "code",
   "execution_count": 359,
   "id": "41e62833",
   "metadata": {},
   "outputs": [
    {
     "name": "stdout",
     "output_type": "stream",
     "text": [
      "[[1. 0. 0. 0. 0. 0. 0. 0. 0. 0.]\n",
      " [0. 1. 0. 0. 0. 0. 0. 0. 0. 0.]\n",
      " [0. 0. 1. 0. 0. 0. 0. 0. 0. 0.]\n",
      " [0. 0. 0. 1. 0. 0. 0. 0. 0. 0.]\n",
      " [0. 0. 0. 0. 1. 0. 0. 0. 0. 0.]\n",
      " [0. 0. 0. 0. 0. 1. 0. 0. 0. 0.]\n",
      " [0. 0. 0. 0. 0. 0. 1. 0. 0. 0.]\n",
      " [0. 0. 0. 0. 0. 0. 0. 1. 0. 0.]\n",
      " [0. 0. 0. 0. 0. 0. 0. 0. 1. 0.]\n",
      " [0. 0. 0. 0. 0. 0. 0. 0. 0. 1.]]\n"
     ]
    }
   ],
   "source": [
    "import numpy as np\n",
    "\n",
    "identity = np.eye(10)\n",
    "\n",
    "print(identity)"
   ]
  },
  {
   "cell_type": "markdown",
   "id": "01a8b39c",
   "metadata": {},
   "source": [
    "RANDOM ARRAY"
   ]
  },
  {
   "cell_type": "code",
   "execution_count": 360,
   "id": "c25e5962",
   "metadata": {},
   "outputs": [
    {
     "name": "stdout",
     "output_type": "stream",
     "text": [
      "[[0.53109224 0.35676397 0.51311614]\n",
      " [0.32530468 0.45724967 0.01407327]\n",
      " [0.45984102 0.35495298 0.98303443]\n",
      " [0.42366256 0.60327198 0.32626615]]\n",
      "[[ 22  68  45  61   9]\n",
      " [-29 -25   1 -37 -36]\n",
      " [-51  36  21 -59  -5]\n",
      " [-60 -37  58  21   6]\n",
      " [-32 -13  66  32  48]]\n"
     ]
    }
   ],
   "source": [
    "import numpy as np\n",
    "#The seed can be anything i guess -> seed determines the random values\n",
    "np.random.seed(69420)\n",
    "\n",
    "bogo_array = np.random.rand(4,3) #random from 0-1\n",
    "int_bogo_array = np.random.randint(-69, 69, (5,5)) #from lower - upper\n",
    "\n",
    "print(bogo_array)\n",
    "print(int_bogo_array)\n"
   ]
  },
  {
   "cell_type": "markdown",
   "id": "5477f6ee",
   "metadata": {},
   "source": [
    "Accessing arrays\n",
    "\n",
    "1. Indexing"
   ]
  },
  {
   "cell_type": "code",
   "execution_count": 361,
   "id": "0b701755",
   "metadata": {},
   "outputs": [
    {
     "name": "stdout",
     "output_type": "stream",
     "text": [
      "1 5\n"
     ]
    }
   ],
   "source": [
    "import numpy as np\n",
    "\n",
    "new = np.array([1,2,3,4,5])\n",
    "\n",
    "first_element = new[0]\n",
    "\n",
    "last_element = new[-1]\n",
    "\n",
    "print(first_element, last_element)"
   ]
  },
  {
   "cell_type": "code",
   "execution_count": 362,
   "id": "ba3d358b",
   "metadata": {},
   "outputs": [
    {
     "name": "stdout",
     "output_type": "stream",
     "text": [
      "4\n"
     ]
    }
   ],
   "source": [
    "import numpy as np\n",
    "\n",
    "arr_2d = np.array([[2,3,4],[5,6,7]])\n",
    "\n",
    "print(arr_2d[0, 2])"
   ]
  },
  {
   "cell_type": "markdown",
   "id": "1cd8a7a5",
   "metadata": {},
   "source": [
    "2. Slicing"
   ]
  },
  {
   "cell_type": "markdown",
   "id": "1c39a2d7",
   "metadata": {},
   "source": [
    "ex01: From a 1d array, we take out the subarray from the 2nd element to the 4th element"
   ]
  },
  {
   "cell_type": "code",
   "execution_count": 363,
   "id": "2f2f9459",
   "metadata": {},
   "outputs": [
    {
     "name": "stdout",
     "output_type": "stream",
     "text": [
      "[2 3 4]\n"
     ]
    }
   ],
   "source": [
    "import numpy as np\n",
    "\n",
    "nums = np.array([1,2,3,4,5])\n",
    "\n",
    "print(nums[1:4])"
   ]
  },
  {
   "cell_type": "markdown",
   "id": "0e249bf6",
   "metadata": {},
   "source": [
    "ex02: From a 2d array, we take out the data from row 2 and 3"
   ]
  },
  {
   "cell_type": "code",
   "execution_count": 364,
   "id": "50a18363",
   "metadata": {},
   "outputs": [
    {
     "name": "stdout",
     "output_type": "stream",
     "text": [
      "[[1 2]\n",
      " [3 4]\n",
      " [5 6]]\n",
      "[[3 4]\n",
      " [5 6]]\n"
     ]
    }
   ],
   "source": [
    "import numpy as np\n",
    "\n",
    "nums = np.array([[1,2], [3,4], [5,6]])\n",
    "\n",
    "print(nums)\n",
    "print(nums[1:3])"
   ]
  },
  {
   "cell_type": "markdown",
   "id": "a3b85e92",
   "metadata": {},
   "source": [
    "ex03: From a 2d array, we take out the last 2 rows of them, and the last 2 columns as well"
   ]
  },
  {
   "cell_type": "code",
   "execution_count": 365,
   "id": "6d0ad32a",
   "metadata": {},
   "outputs": [
    {
     "name": "stdout",
     "output_type": "stream",
     "text": [
      "[[1 2 3]\n",
      " [4 5 6]\n",
      " [7 8 9]]\n",
      "[[5 6]\n",
      " [8 9]]\n"
     ]
    }
   ],
   "source": [
    "import numpy as np\n",
    "\n",
    "nums = np.array([[1,2,3], [4,5,6], [7,8,9]])\n",
    "\n",
    "print(nums)\n",
    "\n",
    "print(nums[-2:,-2:])"
   ]
  },
  {
   "cell_type": "markdown",
   "id": "5f6fef7d",
   "metadata": {},
   "source": [
    "Connect arrays\n",
    "1. hstack"
   ]
  },
  {
   "cell_type": "code",
   "execution_count": 366,
   "id": "63f48820",
   "metadata": {},
   "outputs": [
    {
     "name": "stdout",
     "output_type": "stream",
     "text": [
      "[ 1  2  3  4  5 -1 -2 -3 -4 -5]\n"
     ]
    }
   ],
   "source": [
    "#hstack connects the arrays horizontally\n",
    "\n",
    "import numpy as np\n",
    "\n",
    "arr_1 = np.array([1,2,3,4,5])\n",
    "\n",
    "arr_2 = np.array([-1,-2,-3,-4,-5])\n",
    "\n",
    "print(np.hstack((arr_1, arr_2)))"
   ]
  },
  {
   "cell_type": "markdown",
   "id": "cf314e1a",
   "metadata": {},
   "source": [
    "vstack"
   ]
  },
  {
   "cell_type": "code",
   "execution_count": 367,
   "id": "c64a79c0",
   "metadata": {},
   "outputs": [
    {
     "name": "stdout",
     "output_type": "stream",
     "text": [
      "[[ 1  2  3  4  5]\n",
      " [-1 -2 -3 -4 -5]]\n"
     ]
    }
   ],
   "source": [
    "#i mean hstack is for horizontal connection, probably can guess what vstack does huh\n",
    "\n",
    "import numpy as np\n",
    "\n",
    "arr_1 = np.array([1,2,3,4,5])\n",
    "\n",
    "arr_2 = np.array([-1,-2,-3,-4,-5])\n",
    "\n",
    "print(np.vstack((arr_1, arr_2)))"
   ]
  },
  {
   "cell_type": "markdown",
   "id": "17c51514",
   "metadata": {},
   "source": [
    "concatenate"
   ]
  },
  {
   "cell_type": "code",
   "execution_count": 368,
   "id": "9941eb5f",
   "metadata": {},
   "outputs": [
    {
     "name": "stdout",
     "output_type": "stream",
     "text": [
      "[[ 1  2  3  4 -1 -2 -3 -4]\n",
      " [ 5  6  7  8 -5 -6 -7 -8]]\n",
      "[[ 1  2  3  4]\n",
      " [ 5  6  7  8]\n",
      " [-1 -2 -3 -4]\n",
      " [-5 -6 -7 -8]]\n"
     ]
    }
   ],
   "source": [
    "'''\n",
    "basically hstack + vstack, connect arrays and can choose any direction we want\n",
    "axis = 0 -> vertical\n",
    "axis = 1 -> horizontal\n",
    "\n",
    "NOTE: cant use this to connect 1d array horizontally -> use the hstack boy instead\n",
    "'''\n",
    "\n",
    "import numpy as np\n",
    "\n",
    "\n",
    "arr_1 = np.array([[1,2,3,4],[5,6,7,8]])\n",
    "\n",
    "arr_2 = np.array([[-1,-2,-3,-4],[-5,-6,-7,-8]])\n",
    "\n",
    "hstack_imposter = np.concatenate((arr_1, arr_2), axis = 1)\n",
    "vstack_imposter = np.concatenate((arr_1, arr_2), axis = 0)\n",
    "\n",
    "print(hstack_imposter)\n",
    "print(vstack_imposter)\n",
    "\n",
    "\n"
   ]
  },
  {
   "cell_type": "markdown",
   "id": "4a399044",
   "metadata": {},
   "source": [
    "Change shape and dim of arrays\n",
    "1. slicing, expand_dims"
   ]
  },
  {
   "cell_type": "code",
   "execution_count": 369,
   "id": "2b2a6c6f",
   "metadata": {},
   "outputs": [
    {
     "name": "stdout",
     "output_type": "stream",
     "text": [
      "[1 2 3 4 5] (5,)\n",
      "[[1 2 3 4 5]] (1, 5)\n",
      "[[1]\n",
      " [2]\n",
      " [3]\n",
      " [4]\n",
      " [5]] (5, 1)\n"
     ]
    }
   ],
   "source": [
    "'''\n",
    "np.newaxis -> adds one more dimension inside (sus)\n",
    "I think u can use None instead of that sooo,\n",
    "maybe None is goated\n",
    "'''\n",
    "\n",
    "import numpy as np\n",
    "\n",
    "arr = np.array([1,2,3,4,5])\n",
    "print(arr, arr.shape)\n",
    "#1D -> 2D (1 row of 5 elements)\n",
    "arr_2d = arr[np.newaxis, :]\n",
    "print(arr_2d, arr_2d.shape)\n",
    "\n",
    "#1D -> 2D (5 rows of 1 element)\n",
    "arr_2d = arr[:, np.newaxis]\n",
    "print(arr_2d, arr_2d.shape)\n",
    "\n",
    "\n"
   ]
  },
  {
   "cell_type": "code",
   "execution_count": 370,
   "id": "4a195f51",
   "metadata": {},
   "outputs": [
    {
     "name": "stdout",
     "output_type": "stream",
     "text": [
      "[[1 2 3]\n",
      " [4 5 6]] (2, 3)\n",
      "\n",
      "[[[1 2 3]\n",
      "  [4 5 6]]] (1, 2, 3)\n",
      "\n",
      "[[[1 2 3]]\n",
      "\n",
      " [[4 5 6]]] (2, 1, 3)\n",
      "\n",
      "[[[1]\n",
      "  [2]\n",
      "  [3]]\n",
      "\n",
      " [[4]\n",
      "  [5]\n",
      "  [6]]] (2, 3, 1)\n",
      "\n"
     ]
    }
   ],
   "source": [
    "'''\n",
    "np.expand_dims(): Basically a function that adds another \n",
    "axis to it, not rly sure what is the difference tho\n",
    "\n",
    "I think it is more clear to see which axis it expands on,\n",
    "so that's nice\n",
    "\n",
    "'''\n",
    "import numpy as np\n",
    "\n",
    "arr = np.array([[1,2,3],[4,5,6]])\n",
    "print(arr, arr.shape)\n",
    "print()\n",
    "#2d -> 3d\n",
    "\n",
    "\n",
    "for i in range(0, 3):\n",
    "    arr_3d = np.expand_dims(arr, axis = i)\n",
    "    print(arr_3d, arr_3d.shape)\n",
    "    print()\n"
   ]
  },
  {
   "cell_type": "markdown",
   "id": "7f8ee4e8",
   "metadata": {},
   "source": [
    "2. reshape (oh shit this is gonna be confusing)\n"
   ]
  },
  {
   "cell_type": "code",
   "execution_count": 371,
   "id": "ea998871",
   "metadata": {},
   "outputs": [
    {
     "name": "stdout",
     "output_type": "stream",
     "text": [
      "[ 1  2  3  4  5  6  7  8  9 10 11 12]\n",
      "[[ 1  2  3  4]\n",
      " [ 5  6  7  8]\n",
      " [ 9 10 11 12]]\n",
      "[[ 1  2]\n",
      " [ 3  4]\n",
      " [ 5  6]\n",
      " [ 7  8]\n",
      " [ 9 10]\n",
      " [11 12]]\n"
     ]
    }
   ],
   "source": [
    "\"\"\" \n",
    "Basically it reshapes it. Surprise huh\n",
    "\n",
    "as long as the area/ volumes or whatever it is in higher dimension is\n",
    "the same between the old and new shape, it can basically do a transform\n",
    "from tinybot to fucking gigachad\n",
    "\n",
    "NOTE:\n",
    "oh and this as well.\n",
    "\n",
    "suppose u have a (69, 420) array (probably never)\n",
    "u want it now to have 3x less rows, and therefore, 3x more columns\n",
    "\n",
    "u do some quick mental math like the asian you are and get 23 rows for\n",
    "the new shape, but your attention span is low and can't really piece \n",
    "together wtf 420 * 3 is\n",
    "\n",
    "soooooo, yeah numpy now does it for you using the -1 magic number\n",
    "...\n",
    "EZ\n",
    "\n",
    "\"\"\"\n",
    "\n",
    "import numpy as np\n",
    "arr_2d = np.array([[1,2,3,4,5,6],[7,8,9,10,11,12]])\n",
    "\n",
    "#Compressing to 1d\n",
    "\n",
    "new = np.reshape(arr_2d, shape = (-1, ))\n",
    "print(new)\n",
    "\n",
    "#to 3 * 4\n",
    "new = np.reshape(arr_2d, shape = (3, 4))\n",
    "print(new)\n",
    "\n",
    "#to 6 rows and sth(let numpy calc it)\n",
    "new = np.reshape(arr_2d, shape = (6, -1))\n",
    "print(new)"
   ]
  },
  {
   "cell_type": "markdown",
   "id": "9dd99a9a",
   "metadata": {},
   "source": [
    "Searching and sorting\n",
    "1. With conditions"
   ]
  },
  {
   "cell_type": "code",
   "execution_count": 372,
   "id": "5328aac4",
   "metadata": {},
   "outputs": [
    {
     "name": "stdout",
     "output_type": "stream",
     "text": [
      "(array([ 1,  3,  5,  7,  9, 11, 13, 15, 17, 19, 21, 23, 25, 27, 29, 31, 33,\n",
      "       35, 37, 39, 41, 43, 45, 47, 49, 51, 53, 55, 57, 59, 61, 63, 65, 67,\n",
      "       69, 71, 73, 75, 77, 79, 81, 83, 85, 87, 89, 91, 93, 95, 97, 99]),)\n",
      "[-49 -47 -45 -43 -41 -39 -37 -35 -33 -31 -29 -27 -25 -23 -21 -19 -17 -15\n",
      " -13 -11  -9  -7  -5  -3  -1   1   3   5   7   9  11  13  15  17  19  21\n",
      "  23  25  27  29  31  33  35  37  39  41  43  45  47  49]\n"
     ]
    }
   ],
   "source": [
    "'''\n",
    "np.where(): It does what it sounds like\n",
    "\n",
    "1 condition, bam bam bam -> returns the INDEXES that sastify it\n",
    "\n",
    "'''\n",
    "\n",
    "import numpy as np\n",
    "\n",
    "arr = np.array([i - 50 for i in range(0, 100)]) #list compression type sh\n",
    "\n",
    "result = np.where(arr % 2 == 1)\n",
    "\n",
    "print(result)\n",
    "print(arr[result])"
   ]
  },
  {
   "cell_type": "markdown",
   "id": "13435e0b",
   "metadata": {},
   "source": [
    "Max and Min"
   ]
  },
  {
   "cell_type": "code",
   "execution_count": 373,
   "id": "8bbd33f3",
   "metadata": {},
   "outputs": [
    {
     "name": "stdout",
     "output_type": "stream",
     "text": [
      "5 1\n"
     ]
    }
   ],
   "source": [
    "''' \n",
    "probably no need to explain this huh\n",
    "'''\n",
    "\n",
    "import numpy as np\n",
    "arr = np.array([1,2,3,4,5])\n",
    "\n",
    "max_value, min_value = np.max(arr), np.min(arr)\n",
    "\n",
    "print(max_value, min_value)\n"
   ]
  },
  {
   "cell_type": "code",
   "execution_count": 374,
   "id": "12f56a11",
   "metadata": {},
   "outputs": [
    {
     "name": "stdout",
     "output_type": "stream",
     "text": [
      "[ 5 -1] [ 1 -5]\n"
     ]
    }
   ],
   "source": [
    "''' \n",
    "But wait there's more\n",
    "\n",
    "It can actually do it with each axis in a multiple dimension array\n",
    "'''\n",
    "\n",
    "import numpy as np\n",
    "\n",
    "arr = np.array([[1,2,3,4,5], [-1,-2,-3,-4,-5]])\n",
    "\n",
    "max_value_row, min_value_row = np.max(arr, axis = 1), np.min(arr, axis = 1)\n",
    "\n",
    "print(max_value_row, min_value_row)"
   ]
  },
  {
   "cell_type": "markdown",
   "id": "85ece3d7",
   "metadata": {},
   "source": [
    "Find the indexes of the max and min"
   ]
  },
  {
   "cell_type": "code",
   "execution_count": 375,
   "id": "2fc09be8",
   "metadata": {},
   "outputs": [
    {
     "name": "stdout",
     "output_type": "stream",
     "text": [
      "1 5\n",
      "[1 0 0]\n",
      "[0 2]\n"
     ]
    }
   ],
   "source": [
    "''' \n",
    "still, pretty simple\n",
    "we use argmax and argmin, along some axis\n",
    "-> so basically groups/ compresses them along some axis, \n",
    "like group by in sql -> do the mental math -> return indexes\n",
    "\n",
    "axis = cool\n",
    "'''\n",
    "import numpy as np\n",
    "\n",
    "arr = np.array([[10, 15, 12], [13, 14, 9]])\n",
    "\n",
    "index_max, index_min = np.argmax(arr), np.argmin(arr)\n",
    "\n",
    "print(index_max, index_min)\n",
    "\n",
    "print(np.argmax(arr, axis = 0))\n",
    "print(np.argmin(arr, axis = 1))\n"
   ]
  },
  {
   "cell_type": "markdown",
   "id": "2d1d73bb",
   "metadata": {},
   "source": [
    "sorting "
   ]
  },
  {
   "cell_type": "code",
   "execution_count": 376,
   "id": "130195a8",
   "metadata": {},
   "outputs": [
    {
     "name": "stdout",
     "output_type": "stream",
     "text": [
      "[[-2  1  3]\n",
      " [-5  4  6]]\n",
      "[[-2  1  3]\n",
      " [-5  4  6]]\n",
      "[[ 3 -5 -2]\n",
      " [ 6  1  4]]\n"
     ]
    }
   ],
   "source": [
    "''' \n",
    "also pretty simple, kinda boring actually\n",
    "\n",
    "np.sort()\n",
    " but nows includes an axis as well, so it sorts within each subarray \n",
    " axis direction i guess\n",
    "'''\n",
    "\n",
    "import numpy as np\n",
    "\n",
    "\n",
    "arr = np.array([[3,1,-2],[6,-5,4]])\n",
    "\n",
    "#default\n",
    "print(np.sort(arr))\n",
    "\n",
    "#row by row\n",
    "print(np.sort(arr, axis = 1))\n",
    "\n",
    "#column by column\n",
    "print(np.sort(arr, axis = 0))\n",
    "\n",
    "\n"
   ]
  },
  {
   "cell_type": "markdown",
   "id": "9d484f82",
   "metadata": {},
   "source": [
    "MATH TIME WOOHOO"
   ]
  },
  {
   "cell_type": "code",
   "execution_count": 377,
   "id": "52a4881c",
   "metadata": {},
   "outputs": [
    {
     "name": "stdout",
     "output_type": "stream",
     "text": [
      "[-2 -3 -6  6]\n",
      "[-2 -3 -6  6]\n"
     ]
    }
   ],
   "source": [
    "''' \n",
    "Addition: \n",
    "    so\n",
    "    basically\n",
    "     c = a + b\n",
    "    and in terms of numpy, it basically add each element together\n",
    "    like vector/ matrix addition\n",
    "\n",
    "    and they need to be the same shape, obviously\n",
    "\n",
    "    '+' and np.add() are the same\n",
    "'''\n",
    "\n",
    "import numpy as np\n",
    "\n",
    "arr1 = np.array([-3, -5, -9, 2])\n",
    "\n",
    "arr2 = np.array([1, 2, 3, 4])\n",
    "\n",
    "print(arr1 + arr2)\n",
    "print(np.add(arr1, arr2))"
   ]
  },
  {
   "cell_type": "code",
   "execution_count": 378,
   "id": "6f70ac44",
   "metadata": {},
   "outputs": [
    {
     "name": "stdout",
     "output_type": "stream",
     "text": [
      "[ -4  -7 -12  -2]\n",
      "[ -4  -7 -12  -2]\n"
     ]
    }
   ],
   "source": [
    "''' \n",
    "subtraction: basically addition in reverse, not much to say\n",
    "\n",
    "-> '-' = np.substract()\n",
    "\n",
    "\n",
    "'''\n",
    "\n",
    "import numpy as np\n",
    "\n",
    "arr1 = np.array([-3, -5, -9, 2])\n",
    "\n",
    "arr2 = np.array([1, 2, 3, 4])\n",
    "\n",
    "print(arr1 - arr2)\n",
    "print(np.subtract(arr1, arr2))\n"
   ]
  },
  {
   "cell_type": "code",
   "execution_count": 379,
   "id": "34906286",
   "metadata": {},
   "outputs": [
    {
     "name": "stdout",
     "output_type": "stream",
     "text": [
      "[ -3 -10 -27   8]\n",
      "[ -3 -10 -27   8]\n"
     ]
    }
   ],
   "source": [
    "''' \n",
    "multiplication: the same applys here\n",
    "\n",
    "'*' = np.multiply()\n",
    "'''\n",
    "\n",
    "import numpy as np\n",
    "\n",
    "arr1 = np.array([-3, -5, -9, 2])\n",
    "\n",
    "arr2 = np.array([1, 2, 3, 4])\n",
    "\n",
    "print(arr1 * arr2)\n",
    "print(np.multiply(arr1, arr2))"
   ]
  },
  {
   "cell_type": "code",
   "execution_count": 380,
   "id": "08d67193",
   "metadata": {},
   "outputs": [
    {
     "name": "stdout",
     "output_type": "stream",
     "text": [
      "[-3.  -2.5 -3.   0.5]\n",
      "[-3.  -2.5 -3.   0.5]\n",
      "[-3 -3 -3  0]\n"
     ]
    }
   ],
   "source": [
    "''' \n",
    "division is zzzzzzzzzzzzzzzzzzzzzz\n",
    "\n",
    "'/' = np.divide()\n",
    "\n",
    "// works which is surprising\n",
    "\n",
    "'''\n",
    "\n",
    "\n",
    "import numpy as np\n",
    "\n",
    "arr1 = np.array([-3, -5, -9, 2])\n",
    "\n",
    "arr2 = np.array([1, 2, 3, 4])\n",
    "\n",
    "print(arr1 / arr2)\n",
    "print(np.divide(arr1, arr2))\n",
    "\n",
    "print(arr1 // arr2)"
   ]
  },
  {
   "cell_type": "code",
   "execution_count": 381,
   "id": "b324c3f4",
   "metadata": {},
   "outputs": [
    {
     "name": "stdout",
     "output_type": "stream",
     "text": [
      "8\n",
      "[8]\n"
     ]
    }
   ],
   "source": [
    "''' \n",
    "    Now the fun stuff begins.\n",
    "\n",
    "    dot product\n",
    "\n",
    "    a = [a1, a2, a3, ..., an], b = [b1, b2, b3, ..., bn]\n",
    "\n",
    "    -> np.dot(a.b) (or math-wise a.b) = a1 * a2 + b1 * b2 + ... to the end\n",
    "\n",
    "    NOTE:\n",
    "    in math wise: it should be the same shape\n",
    "    but numpy wise: \n",
    "\n",
    "    if one arr has shape (1, 2), it can actually do a dot product\n",
    "    with a shape that is (2, 1)\n",
    "    so that is neet\n",
    "'''\n",
    "\n",
    "import numpy as np\n",
    "\n",
    "#same shape\n",
    "arr_1 = np.array([1,2])\n",
    "arr_2 = np.array([2,3])\n",
    "print(arr_1.dot(arr_2))\n",
    "\n",
    "#shape a bit diff\n",
    "arr_1 = np.array([1,2])\n",
    "arr_2 = np.array([[2],[3]])\n",
    "\n",
    "print(arr_1.dot(arr_2))\n",
    "\n"
   ]
  },
  {
   "cell_type": "code",
   "execution_count": 382,
   "id": "2fae67a6",
   "metadata": {},
   "outputs": [
    {
     "name": "stdout",
     "output_type": "stream",
     "text": [
      "[[1 2 3]\n",
      " [4 5 6]]\n",
      "[[-1]\n",
      " [-2]\n",
      " [-3]]\n",
      "\n",
      "[[-14]\n",
      " [-32]]\n",
      "[[1 2 3]\n",
      " [4 5 6]]\n"
     ]
    }
   ],
   "source": [
    "''' \n",
    "matrix- matrix multiplication (np.matmul() i think np.dot() also works\n",
    "but kinda sketchy)\n",
    "\n",
    "a11  a12   b11  b12     c11 c12\n",
    "         *           =\n",
    "a21  a22   b21  b22     c21 c22\n",
    "\n",
    "and c11 = a11 * b11 + a12 * b21 (basically dot product of 1st row of a\n",
    "                                and 1 col of b)\n",
    "\n",
    "    the rule applies\n",
    "\n",
    "    c[i][j] = dot product of i-th row of a and j-th col of b\n",
    "\n",
    "NOTE:\n",
    "\n",
    "for this to happen\n",
    "a needs to have a shape of (m, n) -> b needs to have a shape of(n,k)\n",
    "a has n cols, b has n rows -> final shape will be m x k\n",
    "'''\n",
    "\n",
    "import numpy as np\n",
    "\n",
    "arr1 = np.array([[1,2,3], [4,5,6]])\n",
    "arr2 = np.array([[-1], [-2], [-3]])\n",
    "print(arr1)\n",
    "print(arr2)\n",
    "print()\n",
    "print(np.matmul(arr1, arr2))\n",
    "print(arr1)\n"
   ]
  },
  {
   "cell_type": "code",
   "execution_count": 383,
   "id": "41e69a7e",
   "metadata": {},
   "outputs": [
    {
     "name": "stdout",
     "output_type": "stream",
     "text": [
      "[[1 2]\n",
      " [3 4]\n",
      " [5 6]]\n",
      "[[1 3 5]\n",
      " [2 4 6]]\n"
     ]
    }
   ],
   "source": [
    "''' \n",
    "Transposition\n",
    "\n",
    "(A)T is the transpose of matrix A\n",
    "\n",
    "if A has shape(a,b) -> the transpose has shape (b,a)\n",
    "\n",
    "for every i,j  (A)T [i][j] = A[j][i]\n",
    "\n",
    "use np.transpose()\n",
    "'''\n",
    "\n",
    "import numpy as np\n",
    "\n",
    "arr1 = np.array([[1,2],[3,4],[5,6]])\n",
    "arr2 = np.transpose(arr1)\n",
    "print(arr1)\n",
    "print(arr2)\n"
   ]
  },
  {
   "cell_type": "markdown",
   "id": "d983980a",
   "metadata": {},
   "source": [
    "SOME EXERCISES/EZ FUNCTIONS FOR NOOBS"
   ]
  },
  {
   "cell_type": "code",
   "execution_count": 384,
   "id": "0be52fc5",
   "metadata": {},
   "outputs": [
    {
     "name": "stdout",
     "output_type": "stream",
     "text": [
      "3.0\n"
     ]
    }
   ],
   "source": [
    "''' \n",
    "    Find the average of a numpy array\n",
    "\n",
    "    np.mean()\n",
    "\n",
    "'''\n",
    "\n",
    "arr_1 = np.array([1,2,3,4,5])\n",
    "print(np.mean(arr_1))\n"
   ]
  },
  {
   "cell_type": "code",
   "execution_count": 385,
   "id": "8f94c9af",
   "metadata": {},
   "outputs": [
    {
     "name": "stdout",
     "output_type": "stream",
     "text": [
      "3.74\n"
     ]
    }
   ],
   "source": [
    "''' \n",
    "    Find the length of a vector\n",
    "\n",
    "    np.linalg.norm()\n",
    "'''\n",
    "\n",
    "vector = np.array([1,2,3])\n",
    "\n",
    "print(round(np.linalg.norm(vector), 2))"
   ]
  },
  {
   "cell_type": "code",
   "execution_count": 386,
   "id": "6f42ad4f",
   "metadata": {},
   "outputs": [
    {
     "name": "stdout",
     "output_type": "stream",
     "text": [
      "[2. 3.]\n"
     ]
    }
   ],
   "source": [
    "'''\n",
    "    solve a system a linear equation\n",
    "    Ax = B\n",
    "    np.linalg.solve()\n",
    "'''\n",
    "\n",
    "a = np.array([[3,1], [1,2]])\n",
    "b = np.array([9, 8])\n",
    "\n",
    "print(np.linalg.solve(a,b))"
   ]
  },
  {
   "cell_type": "markdown",
   "id": "79f2788a",
   "metadata": {},
   "source": [
    "BROADCASTING (huh wtf isthis)"
   ]
  },
  {
   "cell_type": "code",
   "execution_count": 387,
   "id": "43a66274",
   "metadata": {},
   "outputs": [
    {
     "name": "stdout",
     "output_type": "stream",
     "text": [
      "[ 2  6 10 14]\n"
     ]
    }
   ],
   "source": [
    "''' \n",
    "so i think it basically let us \n",
    "do math with diffent shape and sizes\n",
    "\n",
    "numpy expands the smaller size array (if possible)\n",
    "so that both has the same size\n",
    "and he does the asian math thingy afterwards\n",
    "'''\n",
    "\n",
    "#extend 2 -> [2 2 2 2]\n",
    "import numpy as np\n",
    "\n",
    "arr = np.array([1,3,5,7])\n",
    "\n",
    "print(arr * 2)\n"
   ]
  },
  {
   "cell_type": "code",
   "execution_count": 388,
   "id": "7b2ba76d",
   "metadata": {},
   "outputs": [
    {
     "name": "stdout",
     "output_type": "stream",
     "text": [
      "[[ 0  1  1]\n",
      " [ 6  6 -3]]\n"
     ]
    }
   ],
   "source": [
    "#2d shit for illustration\n",
    "\n",
    "arr2d = np.array([[1,3,4], [7,8,0]])\n",
    "\n",
    "arr1d = np.array([-1,-2,-3])\n",
    "\n",
    "print(arr2d + arr1d)\n",
    "\n",
    "# the same is :\n",
    "# arr1d = np.array([[-1,-2,-3], [-1,-2,-3]])\n",
    "# print(arr2d + arr1d)"
   ]
  },
  {
   "cell_type": "code",
   "execution_count": 389,
   "id": "39247bee",
   "metadata": {},
   "outputs": [
    {
     "name": "stdout",
     "output_type": "stream",
     "text": [
      "[[10 20 30]\n",
      " [20 40 60]\n",
      " [30 60 90]]\n"
     ]
    }
   ],
   "source": [
    "#another 2d shit\n",
    "import numpy as np\n",
    " \n",
    "arr1 = np.array([[1], [2], [3]])\n",
    "arr2 = np.array([10, 20, 30])\n",
    "\n",
    "print(arr1 * arr2)\n",
    "\n",
    "#basically the same ap np.matmul()\n"
   ]
  },
  {
   "cell_type": "markdown",
   "id": "7f05508b",
   "metadata": {},
   "source": [
    "FUCNTIONS AND SHI"
   ]
  },
  {
   "cell_type": "code",
   "execution_count": null,
   "id": "c84eb1a4",
   "metadata": {},
   "outputs": [
    {
     "name": "stdout",
     "output_type": "stream",
     "text": [
      "[4. 5. 6.]\n",
      "[2. 5. 8.]\n"
     ]
    }
   ],
   "source": [
    "''' \n",
    "np.apply_along_axis(func, axis, arr)\n",
    "\n",
    "this is basically a struct func use in cpp i think\n",
    "basically a packaged function u can made yourself,\n",
    "and apply it along the axis\n",
    "\n",
    "'''\n",
    "\n",
    "import numpy as np\n",
    "\n",
    "def avg(arr):\n",
    "    return round(np.mean(arr), 3)\n",
    "\n",
    "arr2d = np.array([[1,2,3], [4,5,6], [7,8,9]])\n",
    "\n",
    "#avg of each column\n",
    "print(np.apply_along_axis(avg, axis = 0, arr=arr2d))\n",
    "\n",
    "#avg of each row\n",
    "print(np.apply_along_axis(avg, axis = 1, arr=arr2d))\n"
   ]
  },
  {
   "cell_type": "code",
   "execution_count": null,
   "id": "aefab8bb",
   "metadata": {},
   "outputs": [],
   "source": [
    "'''\n",
    "vectorize:\n",
    "isn't this basically a for loop?\n",
    "even the official documentation said that:\n",
    "\"The vectorize function is provided primarily \n",
    "for convenience, not for performance. The implementation\n",
    " is essentially a for loop.\n",
    "\n",
    " bro wtf is it rly necessary\n",
    "\n",
    " it basically applys any function u have to apply \n",
    " along each element of a vector\n",
    "'''\n",
    "\n",
    "def celcius_to_fahreinheit(c):\n",
    "    return (c * 9 / 5) + 32\n",
    "\n",
    "vectorize_function = np.vectorize(celcius_to_fahreinheit)\n",
    "\n",
    "celcius = np.array([-1, 20.5, 97.5, 100, 56.5])\n",
    "\n",
    "print(vectorize_function(celcius))\n"
   ]
  }
 ],
 "metadata": {
  "kernelspec": {
   "display_name": "Python 3",
   "language": "python",
   "name": "python3"
  },
  "language_info": {
   "codemirror_mode": {
    "name": "ipython",
    "version": 3
   },
   "file_extension": ".py",
   "mimetype": "text/x-python",
   "name": "python",
   "nbconvert_exporter": "python",
   "pygments_lexer": "ipython3",
   "version": "3.13.5"
  }
 },
 "nbformat": 4,
 "nbformat_minor": 5
}
