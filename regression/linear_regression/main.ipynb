{
 "cells": [
  {
   "cell_type": "code",
   "execution_count": null,
   "id": "5bf7380f",
   "metadata": {},
   "outputs": [],
   "source": [
    "import sys, time\n",
    "import numpy as np"
   ]
  },
  {
   "cell_type": "code",
   "execution_count": null,
   "id": "3e3c6c31",
   "metadata": {},
   "outputs": [],
   "source": [
    "\"\"\"\n",
    "Prepping data from the given dataset -> Extracting it into attribute titles and the raw data.\n",
    "\"\"\"\n",
    "def read_data(f_name):\n",
    "    raw_dataset = []\n",
    "    with open(f_name) as f_i:\n",
    "        attributes = f_i.readline().strip(',').strip().split(',')\n",
    "\n",
    "        for line in f_i:\n",
    "            temp = np.array(line.strip().split(','), dtype = float)\n",
    "            # float_temp = temp.astype(float)\n",
    "            raw_dataset.append(np.array(temp))\n",
    "\n",
    "        return np.array(attributes), np.array(raw_dataset)"
   ]
  },
  {
   "cell_type": "code",
   "execution_count": null,
   "id": "123d81e7",
   "metadata": {},
   "outputs": [],
   "source": [
    "attri_name, raw_data = read_data(\"Salary_dataset.csv\")\n",
    "print(attri_name)\n",
    "print(raw_data)"
   ]
  },
  {
   "cell_type": "code",
   "execution_count": null,
   "id": "e04ab965",
   "metadata": {},
   "outputs": [],
   "source": [
    "\"\"\" \n",
    "Next task -> Cost function and parameters for our linear regression\n",
    "\"\"\""
   ]
  },
  {
   "cell_type": "code",
   "execution_count": null,
   "id": "40d3d2eb",
   "metadata": {},
   "outputs": [],
   "source": []
  }
 ],
 "metadata": {
  "kernelspec": {
   "display_name": "Python 3",
   "language": "python",
   "name": "python3"
  },
  "language_info": {
   "codemirror_mode": {
    "name": "ipython",
    "version": 3
   },
   "file_extension": ".py",
   "mimetype": "text/x-python",
   "name": "python",
   "nbconvert_exporter": "python",
   "pygments_lexer": "ipython3",
   "version": "3.13.5"
  }
 },
 "nbformat": 4,
 "nbformat_minor": 5
}
